{
  "nbformat": 4,
  "nbformat_minor": 0,
  "metadata": {
    "colab": {
      "provenance": [],
      "authorship_tag": "ABX9TyP/p1HS88K7TIakrILAJwzh",
      "include_colab_link": true
    },
    "kernelspec": {
      "name": "python3",
      "display_name": "Python 3"
    },
    "language_info": {
      "name": "python"
    }
  },
  "cells": [
    {
      "cell_type": "markdown",
      "metadata": {
        "id": "view-in-github",
        "colab_type": "text"
      },
      "source": [
        "<a href=\"https://colab.research.google.com/github/Ali-Noghabi/FL-MNIST/blob/main/Federated_Learning_with_MNIST_Dataset.ipynb\" target=\"_parent\"><img src=\"https://colab.research.google.com/assets/colab-badge.svg\" alt=\"Open In Colab\"/></a>"
      ]
    },
    {
      "cell_type": "markdown",
      "source": [
        "# Federated Learning with MNIST Dataset\n",
        "\n",
        "This project demonstrates the implementation of Federated Learning using the MNIST dataset in Google Colab. It simulates multiple clients (robots) that collaboratively train a global model without sharing their raw data."
      ],
      "metadata": {
        "id": "M1IK6u-j7LLH"
      }
    },
    {
      "cell_type": "markdown",
      "source": [
        "## Introduction\n",
        "\n",
        "**Federated Learning (FL)** is a machine learning paradigm where multiple devices (clients) collaboratively train a model without sharing their raw data. Instead, each device trains a local model on its data and shares only the model parameters with a central server, which aggregates these parameters to update a global model. This approach enhances data privacy and reduces the need for massive data transfers.\n",
        "\n",
        "In this project, we use the MNIST dataset, which contains images of handwritten digits, to simulate federated learning across multiple clients. Each client trains a neural network locally on its subset of the data, and the central server aggregates the models.\n"
      ],
      "metadata": {
        "id": "IJIq69mN7RAD"
      }
    },
    {
      "cell_type": "markdown",
      "source": [
        "## Project Setup"
      ],
      "metadata": {
        "id": "UJOLgrwr7Vue"
      }
    },
    {
      "cell_type": "markdown",
      "source": [
        "\n",
        "### Install Necessary Libraries\n"
      ],
      "metadata": {
        "id": "nuEETCAY7YZJ"
      }
    },
    {
      "cell_type": "code",
      "execution_count": null,
      "metadata": {
        "id": "-sSPK9YK0EIR"
      },
      "outputs": [],
      "source": [
        "# !pip install tensorflow-federated"
      ]
    },
    {
      "cell_type": "markdown",
      "source": [
        "### Import Libraries and Prepare Dataset\n"
      ],
      "metadata": {
        "id": "SHmUrBZ27g-t"
      }
    },
    {
      "cell_type": "code",
      "source": [
        "import numpy as np\n",
        "import tensorflow as tf\n",
        "import tensorflow_federated as tff\n",
        "from tensorflow.keras.datasets import mnist\n",
        "\n",
        "# Load MNIST dataset\n",
        "(x_train, y_train), (x_test, y_test) = mnist.load_data()\n",
        "\n",
        "# Preprocess the data\n",
        "x_train, x_test = x_train / 255.0, x_test / 255.0"
      ],
      "metadata": {
        "colab": {
          "base_uri": "https://localhost:8080/"
        },
        "id": "mcejuCAD0Mvq",
        "outputId": "b4e4d9e8-746c-4f2b-9949-2834b046a0cf"
      },
      "execution_count": 1,
      "outputs": [
        {
          "output_type": "stream",
          "name": "stdout",
          "text": [
            "Downloading data from https://storage.googleapis.com/tensorflow/tf-keras-datasets/mnist.npz\n",
            "11490434/11490434 [==============================] - 0s 0us/step\n"
          ]
        }
      ]
    },
    {
      "cell_type": "markdown",
      "source": [
        "### Simulate Multiple Clients\n"
      ],
      "metadata": {
        "id": "a-gl4-yv7lMP"
      }
    },
    {
      "cell_type": "code",
      "source": [
        "num_clients = 10\n",
        "client_data = []\n",
        "\n",
        "# Split the training data into `num_clients` parts\n",
        "for i in range(num_clients):\n",
        "    start_idx = i * len(x_train) // num_clients\n",
        "    end_idx = (i + 1) * len(x_train) // num_clients\n",
        "    client_data.append((x_train[start_idx:end_idx], y_train[start_idx:end_idx]))\n",
        "\n",
        "# Convert client data to TensorFlow datasets\n",
        "client_datasets = [\n",
        "    tf.data.Dataset.from_tensor_slices((x, y)).batch(32) for x, y in client_data\n",
        "]"
      ],
      "metadata": {
        "id": "u6tksCb00WzH"
      },
      "execution_count": 2,
      "outputs": []
    },
    {
      "cell_type": "markdown",
      "source": [
        "## Neural Network Architecture\n"
      ],
      "metadata": {
        "id": "sGpQp2Yp77XT"
      }
    },
    {
      "cell_type": "markdown",
      "source": [
        "### Detailed Explanation of Layers\n",
        "\n",
        "1. **Flatten Layer**\n",
        "   - **Purpose:** Reshapes the input data from a multi-dimensional array to a one-dimensional array.\n",
        "   - **Input Shape:** 28x28 (an image of a digit in the MNIST dataset).\n",
        "   - **Output Shape:** 784 (28x28 = 784).\n",
        "\n",
        "2. **Dense Layer (128 units)**\n",
        "   - **Purpose:** Fully connected layer with ReLU activation.\n",
        "   - **Units:** 128 neurons.\n",
        "   - **Activation Function:** ReLU.\n",
        "\n",
        "3. **Dropout Layer (20%)**\n",
        "   - **Purpose:** Regularization technique to prevent overfitting.\n",
        "   - **Rate:** 0.2 (20% of the input units are set to zero during each update).\n",
        "\n",
        "4. **Dense Layer (10 units)**\n",
        "   - **Purpose:** Output layer for classification with softmax activation.\n",
        "   - **Units:** 10 neurons (one for each digit class).\n",
        "   - **Activation Function:** Softmax.\n"
      ],
      "metadata": {
        "id": "QDEsucM67qRL"
      }
    },
    {
      "cell_type": "markdown",
      "source": [
        "### Define the Neural Network Model"
      ],
      "metadata": {
        "id": "9IPAKcLp75EK"
      }
    },
    {
      "cell_type": "code",
      "source": [
        "def create_keras_model():\n",
        "    model = tf.keras.models.Sequential([\n",
        "        tf.keras.layers.Flatten(input_shape=(28, 28)),\n",
        "        tf.keras.layers.Dense(128, activation='relu'),\n",
        "        tf.keras.layers.Dropout(0.2),\n",
        "        tf.keras.layers.Dense(10, activation='softmax')\n",
        "    ])\n",
        "    return model"
      ],
      "metadata": {
        "id": "Auj-iBaV1eL4"
      },
      "execution_count": 3,
      "outputs": []
    },
    {
      "cell_type": "markdown",
      "source": [
        "## Federated Learning Steps\n"
      ],
      "metadata": {
        "id": "L3wPdp5f8EyI"
      }
    },
    {
      "cell_type": "markdown",
      "source": [
        "### Local Training on Each Client\n",
        "\n",
        "Each client trains a local model using its own subset of data.\n"
      ],
      "metadata": {
        "id": "RfijCKn_8Drl"
      }
    },
    {
      "cell_type": "code",
      "source": [
        "def client_update(model, dataset, epochs=1):\n",
        "    model.compile(optimizer='adam', loss='sparse_categorical_crossentropy', metrics=['accuracy'])\n",
        "    model.fit(dataset, epochs=epochs)\n",
        "    return model.get_weights()"
      ],
      "metadata": {
        "id": "yB1iJArY1hmT"
      },
      "execution_count": 4,
      "outputs": []
    },
    {
      "cell_type": "markdown",
      "source": [
        "### Aggregate the Models to Form a Global Model\n",
        "\n",
        "The central server aggregates the weights received from all clients to update the global model.\n"
      ],
      "metadata": {
        "id": "xqtpkmqV8HfJ"
      }
    },
    {
      "cell_type": "code",
      "source": [
        "def aggregate_weights(weights):\n",
        "    new_weights = []\n",
        "    for weights_list_tuple in zip(*weights):\n",
        "        new_weights.append(\n",
        "            np.mean(np.array(weights_list_tuple), axis=0)\n",
        "        )\n",
        "    return new_weights"
      ],
      "metadata": {
        "id": "c6BEuwYv1l9C"
      },
      "execution_count": 5,
      "outputs": []
    },
    {
      "cell_type": "markdown",
      "source": [
        "### Federated Training Loop\n",
        "\n",
        "The federated training loop involves multiple rounds of training and aggregation. Here is a step-by-step breakdown:\n",
        "\n",
        "1. **Initialize the Global Model:**\n",
        "   - Start by creating a global model and obtaining its initial weights.\n",
        "\n",
        "2. **Iterate for a Number of Rounds:**\n",
        "   - For each round, perform the following steps:\n",
        "     - **Local Training:** Each client trains its local model using its subset of the data and the current global weights. The trained local model's weights are collected.\n",
        "     - **Model Aggregation:** The collected weights from all clients are averaged to form the new global weights. This aggregation ensures that the knowledge learned by each client is incorporated into the global model.\n",
        "     - **Update Global Model:** The global model's weights are updated with the newly aggregated weights.\n",
        "     - **Compile Global Model:** Ensure the global model is compiled before evaluating its performance.\n",
        "     - **Evaluate Global Model:** Test the global model on the test data to monitor its performance after each round."
      ],
      "metadata": {
        "id": "j_1EQnH28Mg1"
      }
    },
    {
      "cell_type": "code",
      "source": [
        "global_model = create_keras_model()\n",
        "global_weights = global_model.get_weights()\n",
        "\n",
        "num_rounds = 10\n",
        "\n",
        "for round_num in range(num_rounds):\n",
        "    local_weights = []\n",
        "\n",
        "    for client_dataset in client_datasets:\n",
        "        local_model = create_keras_model()\n",
        "        local_model.set_weights(global_weights)\n",
        "        local_weights.append(client_update(local_model, client_dataset))\n",
        "\n",
        "    global_weights = aggregate_weights(local_weights)\n",
        "    global_model.set_weights(global_weights)\n",
        "\n",
        "    # Compile the global model before evaluation\n",
        "    global_model.compile(optimizer='adam', loss='sparse_categorical_crossentropy', metrics=['accuracy'])\n",
        "\n",
        "    # Evaluate the global model\n",
        "    loss, accuracy = global_model.evaluate(x_test, y_test, verbose=0)\n",
        "    print(f'Round {round_num+1}, Loss: {loss}, Accuracy: {accuracy}')\n"
      ],
      "metadata": {
        "colab": {
          "base_uri": "https://localhost:8080/"
        },
        "id": "nfZ38oYX1rS3",
        "outputId": "19272dd3-f8f4-4406-b6a3-f427d35e6930"
      },
      "execution_count": 7,
      "outputs": [
        {
          "output_type": "stream",
          "name": "stdout",
          "text": [
            "188/188 [==============================] - 1s 4ms/step - loss: 0.7182 - accuracy: 0.7962\n",
            "188/188 [==============================] - 1s 4ms/step - loss: 0.7585 - accuracy: 0.7838\n",
            "188/188 [==============================] - 2s 4ms/step - loss: 0.8028 - accuracy: 0.7675\n",
            "188/188 [==============================] - 2s 8ms/step - loss: 0.7465 - accuracy: 0.7842\n",
            "188/188 [==============================] - 1s 4ms/step - loss: 0.7587 - accuracy: 0.7812\n",
            "188/188 [==============================] - 1s 4ms/step - loss: 0.7753 - accuracy: 0.7777\n",
            "188/188 [==============================] - 1s 4ms/step - loss: 0.7687 - accuracy: 0.7747\n",
            "188/188 [==============================] - 1s 4ms/step - loss: 0.7794 - accuracy: 0.7723\n",
            "188/188 [==============================] - 1s 4ms/step - loss: 0.7720 - accuracy: 0.7772\n",
            "188/188 [==============================] - 1s 4ms/step - loss: 0.6839 - accuracy: 0.8048\n",
            "Round 1, Loss: 0.35381487011909485, Accuracy: 0.904699981212616\n",
            "188/188 [==============================] - 1s 5ms/step - loss: 0.3548 - accuracy: 0.8960\n",
            "188/188 [==============================] - 2s 7ms/step - loss: 0.3752 - accuracy: 0.8923\n",
            "188/188 [==============================] - 1s 4ms/step - loss: 0.4202 - accuracy: 0.8733\n",
            "188/188 [==============================] - 1s 4ms/step - loss: 0.3622 - accuracy: 0.8945\n",
            "188/188 [==============================] - 1s 4ms/step - loss: 0.3812 - accuracy: 0.8850\n",
            "188/188 [==============================] - 1s 4ms/step - loss: 0.3896 - accuracy: 0.8813\n",
            "188/188 [==============================] - 1s 4ms/step - loss: 0.3877 - accuracy: 0.8850\n",
            "188/188 [==============================] - 1s 4ms/step - loss: 0.4033 - accuracy: 0.8763\n",
            "188/188 [==============================] - 2s 7ms/step - loss: 0.4008 - accuracy: 0.8827\n",
            "188/188 [==============================] - 2s 4ms/step - loss: 0.3080 - accuracy: 0.9105\n",
            "Round 2, Loss: 0.2634707987308502, Accuracy: 0.9251000285148621\n",
            "188/188 [==============================] - 1s 4ms/step - loss: 0.2875 - accuracy: 0.9167\n",
            "188/188 [==============================] - 1s 4ms/step - loss: 0.3041 - accuracy: 0.9108\n",
            "188/188 [==============================] - 1s 4ms/step - loss: 0.3393 - accuracy: 0.8993\n",
            "188/188 [==============================] - 1s 4ms/step - loss: 0.2921 - accuracy: 0.9150\n",
            "188/188 [==============================] - 1s 4ms/step - loss: 0.3022 - accuracy: 0.9110\n",
            "188/188 [==============================] - 2s 7ms/step - loss: 0.3146 - accuracy: 0.9030\n",
            "188/188 [==============================] - 1s 4ms/step - loss: 0.3169 - accuracy: 0.9053\n",
            "188/188 [==============================] - 2s 5ms/step - loss: 0.3364 - accuracy: 0.8988\n",
            "188/188 [==============================] - 1s 4ms/step - loss: 0.3259 - accuracy: 0.9027\n",
            "188/188 [==============================] - 1s 4ms/step - loss: 0.2503 - accuracy: 0.9258\n",
            "Round 3, Loss: 0.22189931571483612, Accuracy: 0.9333999752998352\n",
            "188/188 [==============================] - 2s 7ms/step - loss: 0.2406 - accuracy: 0.9295\n",
            "188/188 [==============================] - 2s 7ms/step - loss: 0.2674 - accuracy: 0.9218\n",
            "188/188 [==============================] - 1s 4ms/step - loss: 0.2897 - accuracy: 0.9145\n",
            "188/188 [==============================] - 1s 4ms/step - loss: 0.2468 - accuracy: 0.9288\n",
            "188/188 [==============================] - 1s 4ms/step - loss: 0.2594 - accuracy: 0.9250\n",
            "188/188 [==============================] - 2s 6ms/step - loss: 0.2669 - accuracy: 0.9190\n",
            "188/188 [==============================] - 1s 4ms/step - loss: 0.2756 - accuracy: 0.9155\n",
            "188/188 [==============================] - 1s 4ms/step - loss: 0.2886 - accuracy: 0.9127\n",
            "188/188 [==============================] - 2s 7ms/step - loss: 0.2840 - accuracy: 0.9153\n",
            "188/188 [==============================] - 1s 4ms/step - loss: 0.2139 - accuracy: 0.9342\n",
            "Round 4, Loss: 0.19525107741355896, Accuracy: 0.9423999786376953\n",
            "188/188 [==============================] - 1s 4ms/step - loss: 0.2154 - accuracy: 0.9400\n",
            "188/188 [==============================] - 1s 4ms/step - loss: 0.2433 - accuracy: 0.9277\n",
            "188/188 [==============================] - 1s 4ms/step - loss: 0.2580 - accuracy: 0.9212\n",
            "188/188 [==============================] - 1s 4ms/step - loss: 0.2215 - accuracy: 0.9338\n",
            "188/188 [==============================] - 1s 4ms/step - loss: 0.2265 - accuracy: 0.9327\n",
            "188/188 [==============================] - 2s 6ms/step - loss: 0.2354 - accuracy: 0.9308\n",
            "188/188 [==============================] - 2s 7ms/step - loss: 0.2509 - accuracy: 0.9230\n",
            "188/188 [==============================] - 1s 4ms/step - loss: 0.2538 - accuracy: 0.9233\n",
            "188/188 [==============================] - 1s 4ms/step - loss: 0.2548 - accuracy: 0.9228\n",
            "188/188 [==============================] - 1s 4ms/step - loss: 0.1905 - accuracy: 0.9433\n",
            "Round 5, Loss: 0.17601945996284485, Accuracy: 0.9483000040054321\n",
            "188/188 [==============================] - 1s 4ms/step - loss: 0.1961 - accuracy: 0.9428\n",
            "188/188 [==============================] - 1s 4ms/step - loss: 0.2158 - accuracy: 0.9390\n",
            "188/188 [==============================] - 2s 7ms/step - loss: 0.2350 - accuracy: 0.9268\n",
            "188/188 [==============================] - 1s 4ms/step - loss: 0.1970 - accuracy: 0.9440\n",
            "188/188 [==============================] - 1s 4ms/step - loss: 0.2096 - accuracy: 0.9368\n",
            "188/188 [==============================] - 1s 4ms/step - loss: 0.2162 - accuracy: 0.9377\n",
            "188/188 [==============================] - 1s 4ms/step - loss: 0.2179 - accuracy: 0.9367\n",
            "188/188 [==============================] - 1s 4ms/step - loss: 0.2374 - accuracy: 0.9322\n",
            "188/188 [==============================] - 1s 4ms/step - loss: 0.2288 - accuracy: 0.9343\n",
            "188/188 [==============================] - 2s 7ms/step - loss: 0.1647 - accuracy: 0.9472\n",
            "Round 6, Loss: 0.161212757229805, Accuracy: 0.9513999819755554\n",
            "188/188 [==============================] - 1s 4ms/step - loss: 0.1805 - accuracy: 0.9490\n",
            "188/188 [==============================] - 1s 4ms/step - loss: 0.2022 - accuracy: 0.9402\n",
            "188/188 [==============================] - 2s 4ms/step - loss: 0.2139 - accuracy: 0.9373\n",
            "188/188 [==============================] - 1s 4ms/step - loss: 0.1889 - accuracy: 0.9452\n",
            "188/188 [==============================] - 2s 5ms/step - loss: 0.1945 - accuracy: 0.9392\n",
            "188/188 [==============================] - 2s 8ms/step - loss: 0.1958 - accuracy: 0.9398\n",
            "188/188 [==============================] - 1s 4ms/step - loss: 0.2049 - accuracy: 0.9380\n",
            "188/188 [==============================] - 2s 4ms/step - loss: 0.2123 - accuracy: 0.9375\n",
            "188/188 [==============================] - 1s 4ms/step - loss: 0.2094 - accuracy: 0.9367\n",
            "188/188 [==============================] - 1s 4ms/step - loss: 0.1571 - accuracy: 0.9552\n",
            "Round 7, Loss: 0.148555725812912, Accuracy: 0.9556999802589417\n",
            "188/188 [==============================] - 1s 4ms/step - loss: 0.1676 - accuracy: 0.9482\n",
            "188/188 [==============================] - 2s 7ms/step - loss: 0.1875 - accuracy: 0.9442\n",
            "188/188 [==============================] - 2s 7ms/step - loss: 0.2026 - accuracy: 0.9403\n",
            "188/188 [==============================] - 1s 4ms/step - loss: 0.1713 - accuracy: 0.9515\n",
            "188/188 [==============================] - 1s 4ms/step - loss: 0.1809 - accuracy: 0.9462\n",
            "188/188 [==============================] - 1s 4ms/step - loss: 0.1848 - accuracy: 0.9413\n",
            "188/188 [==============================] - 1s 4ms/step - loss: 0.1948 - accuracy: 0.9430\n",
            "188/188 [==============================] - 1s 4ms/step - loss: 0.2046 - accuracy: 0.9400\n",
            "188/188 [==============================] - 1s 4ms/step - loss: 0.1985 - accuracy: 0.9422\n",
            "188/188 [==============================] - 2s 7ms/step - loss: 0.1402 - accuracy: 0.9558\n",
            "Round 8, Loss: 0.13848009705543518, Accuracy: 0.9581000208854675\n",
            "188/188 [==============================] - 1s 4ms/step - loss: 0.1584 - accuracy: 0.9547\n",
            "188/188 [==============================] - 1s 4ms/step - loss: 0.1750 - accuracy: 0.9503\n",
            "188/188 [==============================] - 1s 4ms/step - loss: 0.1874 - accuracy: 0.9422\n",
            "188/188 [==============================] - 1s 4ms/step - loss: 0.1594 - accuracy: 0.9543\n",
            "188/188 [==============================] - 1s 4ms/step - loss: 0.1691 - accuracy: 0.9485\n",
            "188/188 [==============================] - 1s 4ms/step - loss: 0.1709 - accuracy: 0.9467\n",
            "188/188 [==============================] - 1s 5ms/step - loss: 0.1783 - accuracy: 0.9478\n",
            "188/188 [==============================] - 2s 7ms/step - loss: 0.1897 - accuracy: 0.9427\n",
            "188/188 [==============================] - 1s 4ms/step - loss: 0.1861 - accuracy: 0.9463\n",
            "188/188 [==============================] - 1s 4ms/step - loss: 0.1342 - accuracy: 0.9602\n",
            "Round 9, Loss: 0.1304829865694046, Accuracy: 0.9614999890327454\n",
            "188/188 [==============================] - 1s 3ms/step - loss: 0.1495 - accuracy: 0.9553\n",
            "188/188 [==============================] - 1s 4ms/step - loss: 0.1656 - accuracy: 0.9530\n",
            "188/188 [==============================] - 1s 4ms/step - loss: 0.1763 - accuracy: 0.9482\n",
            "188/188 [==============================] - 1s 4ms/step - loss: 0.1566 - accuracy: 0.9540\n",
            "188/188 [==============================] - 1s 4ms/step - loss: 0.1575 - accuracy: 0.9513\n",
            "188/188 [==============================] - 2s 7ms/step - loss: 0.1614 - accuracy: 0.9517\n",
            "188/188 [==============================] - 2s 5ms/step - loss: 0.1652 - accuracy: 0.9498\n",
            "188/188 [==============================] - 1s 4ms/step - loss: 0.1834 - accuracy: 0.9458\n",
            "188/188 [==============================] - 1s 4ms/step - loss: 0.1786 - accuracy: 0.9470\n",
            "188/188 [==============================] - 1s 4ms/step - loss: 0.1304 - accuracy: 0.9608\n",
            "Round 10, Loss: 0.12539468705654144, Accuracy: 0.9624000191688538\n"
          ]
        }
      ]
    },
    {
      "cell_type": "markdown",
      "source": [
        "#### Explanation of Combining Models\n",
        "\n",
        "- **Local Training:** Each client trains a model on its local data. This process allows each client to learn from its unique dataset, which might have different characteristics compared to others.\n",
        "- **Collect Weights:** After training, each client sends its model's weights (parameters) to the central server.\n",
        "- **Aggregation:** The central server aggregates these weights by averaging them. This step is crucial as it combines the knowledge gained from all clients.\n",
        "  - **Why Averaging?** Averaging helps to generalize the global model. Each client's model contributes equally, which helps the global model to learn a broader representation of the data.\n",
        "- **Update Global Model:** The global model's weights are updated with the aggregated weights, thus incorporating the knowledge from all clients.\n",
        "- **Compile and Evaluate:** The global model is compiled and evaluated on the test dataset to monitor its performance."
      ],
      "metadata": {
        "id": "B8zf8gnm8TIx"
      }
    },
    {
      "cell_type": "markdown",
      "source": [
        "### Plot Test Images with Predictions"
      ],
      "metadata": {
        "id": "FUnnXFBh8aRL"
      }
    },
    {
      "cell_type": "code",
      "source": [
        "import matplotlib.pyplot as plt\n",
        "\n",
        "# Predict using the global model\n",
        "predictions = global_model.predict(x_test)\n",
        "\n",
        "# Plot some test images with their predicted labels\n",
        "num_images_to_plot = 10\n",
        "plt.figure(figsize=(15, 10))\n",
        "\n",
        "for i in range(num_images_to_plot):\n",
        "    plt.subplot(2, 5, i + 1)\n",
        "    plt.imshow(x_test[i], cmap='gray')\n",
        "    plt.title(f\"Pred: {np.argmax(predictions[i])}\\nTrue: {y_test[i]}\")\n",
        "    plt.axis('off')\n",
        "\n",
        "plt.show()\n"
      ],
      "metadata": {
        "colab": {
          "base_uri": "https://localhost:8080/",
          "height": 717
        },
        "id": "DxIV7UHY2P-Q",
        "outputId": "8e43253f-9db1-4fa1-d106-3ead885933de"
      },
      "execution_count": 10,
      "outputs": [
        {
          "output_type": "stream",
          "name": "stdout",
          "text": [
            "313/313 [==============================] - 3s 8ms/step\n"
          ]
        },
        {
          "output_type": "display_data",
          "data": {
            "text/plain": [
              "<Figure size 1500x1000 with 10 Axes>"
            ],
            "image/png": "[encoded data removed]"
          },
          "metadata": {}
        }
      ]
    }
  ]
}